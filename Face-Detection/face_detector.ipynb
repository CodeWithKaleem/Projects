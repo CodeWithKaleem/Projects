{
 "cells": [
  {
   "cell_type": "code",
   "execution_count": null,
   "metadata": {},
   "outputs": [],
   "source": [
    "import cv2\n",
    "import dlib\n",
    "import numpy as np\n",
    "\n",
    "# Capturing the frames from primary camera\n",
    "cap = cv2.VideoCapture(0)\n",
    "\n",
    "# detectiong the faces \n",
    "face_detector = dlib.get_frontal_face_detector()\n",
    "\n",
    "\n",
    "while True:\n",
    "    # detecting the faces continuoisly\n",
    "    ret, frame = cap.read()\n",
    "    # Flipping the frame vertically\n",
    "    frame = cv2.flip(frame, 1)\n",
    "    # converting the frames from rgb to grayscale to avoid noise\n",
    "    gray = cv2.cvtColor(frame, cv2.COLOR_BGR2GRAY)\n",
    "    faces = face_detector(gray)\n",
    "    print(len(faces))\n",
    "    i = 0\n",
    "    for face in faces:\n",
    "        # putting the co-ordinates\n",
    "        x , y = face.left(), face.top()\n",
    "        x1 , y1 = face.right(), face.bottom()\n",
    "        # Drawing the rectange\n",
    "        cv2.rectangle(frame, (x,y), (x1,y1), (0,255,0),2)\n",
    "        i = i + 1\n",
    "        # putting the text as face number on the top\n",
    "        cv2.putText(frame,'face num'+ str(i),(x-10,y-10),cv2.FONT_HERSHEY_SIMPLEX,0.7,(0,0,255),2)\n",
    "    # Display the resulting frame\n",
    "    cv2.imshow('frame', frame)\n",
    "\n",
    "    if cv2.waitKey(1) & 0xFF == ord(\"q\"):\n",
    "        break\n",
    "cap.release()\n",
    "cv2.destroyAllWindows()\n"
   ]
  }
 ],
 "metadata": {
  "language_info": {
   "name": "python"
  }
 },
 "nbformat": 4,
 "nbformat_minor": 2
}
